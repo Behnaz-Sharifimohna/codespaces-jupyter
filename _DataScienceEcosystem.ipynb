{
 "cells": [
  {
   "cell_type": "markdown",
   "id": "607c81a8",
   "metadata": {},
   "source": [
    "# Data Science Tools and Ecosystem"
   ]
  },
  {
   "cell_type": "markdown",
   "id": "fab6b6e4",
   "metadata": {},
   "source": [
    "#### In this notebook, Data Science Tools and Ecosystem are summarized."
   ]
  },
  {
   "cell_type": "markdown",
   "id": "410d3ad4",
   "metadata": {},
   "source": [
    "#### Some of the popular languages that Data Scientists use are:"
   ]
  },
  {
   "cell_type": "markdown",
   "id": "f9af9819",
   "metadata": {},
   "source": [
    "#### 1.Python\n",
    "#### 2.R\n",
    "#### 3.C++\n",
    "#### 4.Java Script"
   ]
  },
  {
   "cell_type": "markdown",
   "id": "2b8c9c7d",
   "metadata": {},
   "source": [
    "### **Objectives:**"
   ]
  },
  {
   "cell_type": "markdown",
   "id": "d30865a1",
   "metadata": {},
   "source": [
    "### popular languages for Data Science:\n",
    "\n",
    "#### +Python\n",
    "#### +R\n",
    "#### +Java\n",
    "#### +JavaScript\n",
    "#### +Julia\n",
    "#### +Scala\n"
   ]
  },
  {
   "cell_type": "markdown",
   "id": "c5fd6142",
   "metadata": {},
   "source": [
    "### Some of the commonly used libraries used by Data Scientists include:\n",
    "\n",
    "### 1.Python Libraries\n",
    "####  ---> 1.Pandas\n",
    "####  ---> 2. NumPy\n",
    "\n",
    "### 2. Scala Libraries\n",
    "####  ---> 1.Vegas\n",
    "####  ---> 2.BigDL\n",
    "\n",
    "### 3. R Libraries\n",
    "####  ---> 1.ggPlot2"
   ]
  },
  {
   "cell_type": "markdown",
   "id": "72b6751c",
   "metadata": {},
   "source": [
    "|**Data Science Tools**|\n",
    "|------------------|\n",
    "|RStudio   |\n",
    "|Apache Spark  |\n",
    "|TensorFlow  |\n"
   ]
  },
  {
   "cell_type": "markdown",
   "id": "b6107d39",
   "metadata": {},
   "source": [
    "### Below are a few examples of evaluating arithmetic expressions in Python"
   ]
  },
  {
   "cell_type": "code",
   "execution_count": 1,
   "id": "31754411",
   "metadata": {
    "scrolled": true
   },
   "outputs": [
    {
     "data": {
      "text/plain": [
       "17"
      ]
     },
     "execution_count": 1,
     "metadata": {},
     "output_type": "execute_result"
    }
   ],
   "source": [
    "#This a simple arithmetic expression to mutiply then add integers\n",
    "\n",
    "(3*4)+5"
   ]
  },
  {
   "cell_type": "code",
   "execution_count": 2,
   "id": "8e883eac",
   "metadata": {},
   "outputs": [
    {
     "data": {
      "text/plain": [
       "3.3333333333333335"
      ]
     },
     "execution_count": 2,
     "metadata": {},
     "output_type": "execute_result"
    },
    {
     "name": "stderr",
     "output_type": "stream",
     "text": [
      "Bad pipe message: %s [b' q=0.9, image/avif, image/webp, image/apng, */*; q=0.8, application/signed-exchange; v=b3; q=0.7\\r\\nHost: loc', b'host:40183\\r\\nUser-Agent: Mozilla/5.0 (Windows NT 10.0; Win64; x64) AppleWebKit/537.36 (KHTML, lik']\n",
      "Bad pipe message: %s [b'Gecko) Chrome/111.0.0.0 Safari/537.36\\r\\nAccept-Encoding: gzip, deflate, br\\r\\nAccept-Language: en-US, e']\n",
      "Bad pipe message: %s [b' q=0.9, fa; q=0.8\\r\\nCache-Control: max-age=0\\r\\nCookie: amp_6e403e=T3Q0HHK-NPnNOIOC719nYr...1h7kpcvhi.1h7kpcvhi.', b'0.0\\r\\nReferer: https://urban-disco-97956jwv4qv4c']\n",
      "Bad pipe message: %s [b'6.github.dev/\\r\\ntraceparent: 00-a6e8974d290a16e6c6af299bf0da47d7-ada2ee91eb43b033-00\\r\\nX-Request-ID: 1ed', b'32f7e802a1016240211175b4c00\\r\\nX-Real-IP: 10.240.', b'146\\r\\nX-Forwarded-Proto: https\\r\\nX-Forwarded-Host: ']\n",
      "Bad pipe message: %s [b'ban-disco-97956jwv4qv4cg96-40183.app.github.dev\\r\\nX-Forwarded-Port: 443\\r\\nX-Forwarded-Scheme: https\\r\\nX-Original-URI: /']\n",
      "Bad pipe message: %s [b'X-Scheme: ht']\n",
      "Bad pipe message: %s [b's\\r\\nProxy-Connection: Keep-Alive\\r\\nsec-fetch-site: same-site\\r\\nsec-fetch-mode: navigate\\r\\nsec-fetch-dest: document\\r\\nsec']\n",
      "Bad pipe message: %s [b'h-ua: \"Google Chrome\";v=\"111\", \"Not(A:Brand\"', b'=\"8\", \"Chromium\";v=\"111\"\\r\\nsec-ch-ua-mobile: ?0\\r\\nsec-ch-ua-']\n",
      "Bad pipe message: %s [b' q=0.9, image/avif, image/webp, image/apng, */*; q=0.8, application/signed-exchange; v=b3; q=0.7\\r\\nHost: loc', b'host:40183\\r\\nUser-Agent: Mozilla/5.0 (Windows NT 10.0; Win64; x64) AppleWebKit/537.36 (KHTML, lik']\n",
      "Bad pipe message: %s [b'Gecko) Chrome/111.0.0.0 Safari/537.36\\r\\nAccept-Encoding: gzip, deflate, br\\r\\nAccept-Language: en-US, e']\n",
      "Bad pipe message: %s [b' q=0.9, fa; q=0.8\\r\\nCache-Control: max-age=0\\r\\nCookie: amp_6e403e=T3Q0HHK-NPnNOIOC719nYr...1h7kpcvhi.1h7kpcvhi.', b'0.0\\r\\nReferer: https://urban-disco-97956jwv4qv4c']\n",
      "Bad pipe message: %s [b'6.github.dev/\\r\\ntraceparent: 00-8704727e84e380c2fa97f06ea50c7d69-40d56c6501a205ec-00\\r\\nX-Request-ID: 347', b'e8164db9250a21b6180a9e1518c\\r\\nX-Real-IP: 10.240.0.', b'\\nX-Forwarded-Proto: https\\r\\nX-Forwarded-Host: urban-', b'sco-97956jwv4qv4cg96-40183.app.github.dev\\r\\nX-Forwarded-Port: 443\\r\\nX-Forwarded-Scheme: https\\r\\nX-Orig', b'al-URI: /\\r\\nX-Scheme: https\\r\\nProxy-Connection: Keep-Alive\\r\\nsec-ch-ua: \"Google Chrome\";v=\"111\", \"Not(A:Bra']\n",
      "Bad pipe message: %s [b'\";v=\"8\", \"Chromium\";v=\"111\"\\r\\nsec-ch-ua-mobile: ?0\\r\\nsec-ch-ua-platform: \"Windows\"\\r\\nsec-fetch-site: same-site\\r\\n']\n",
      "Bad pipe message: %s [b' q=0.9, image/avif, image/webp, image/apng, */*; q=0.8, application/signed-exchange; v=b3; q=0.7\\r\\nHost: loc', b'host:40183\\r\\nUser-Agent: Mozilla/5.0 (Windows NT 10.0; Win64; x64) AppleWebKit/537.36 (KHTML, lik']\n",
      "Bad pipe message: %s [b'Gecko) Chrome/111.0.0.0 Safari/537.36\\r\\nAccept-Encoding: gzip, deflate, br\\r\\nAccept-Language: en-US, e']\n",
      "Bad pipe message: %s [b' q=0.9, fa; q=0.8\\r\\nCookie: amp_6e403e=T3Q0HHK-NPnNOIOC719nYr...1h7kpcvhi.1h7kpcvhi.0.0.0\\r\\nReferer: https://ur', b'n-disco-97956jwv4qv4cg96.github.dev/\\r\\ntraceparent: 00-640788c9d3c0b1adfc501bbc3bcfc7c2-96f0c48aeb', b'c03d-00\\r\\nX-Request-ID: badc3b48efcee771a335bab4accb525']\n",
      "Bad pipe message: %s [b'\\nX-Real-IP: 10.240.0.222\\r\\nX-Forwarded-Proto: https\\r\\nX-Forwarded-Host: urban-disco-97956jwv4qv4cg96-', b'183.app.github.dev\\r\\nX-Forwarded-Port: 443\\r\\nX-Forwar']\n"
     ]
    }
   ],
   "source": [
    "#This will convert 200 minutes to hours by diving by 60\n",
    "\n",
    "200/60"
   ]
  },
  {
   "cell_type": "markdown",
   "id": "47e011d7",
   "metadata": {},
   "source": [
    "## Author\n",
    " Behnaz Sharifimohna"
   ]
  },
  {
   "cell_type": "code",
   "execution_count": null,
   "id": "ce2faa44",
   "metadata": {},
   "outputs": [],
   "source": []
  }
 ],
 "metadata": {
  "kernelspec": {
   "display_name": "Python 3 (ipykernel)",
   "language": "python",
   "name": "python3"
  },
  "language_info": {
   "codemirror_mode": {
    "name": "ipython",
    "version": 3
   },
   "file_extension": ".py",
   "mimetype": "text/x-python",
   "name": "python",
   "nbconvert_exporter": "python",
   "pygments_lexer": "ipython3",
   "version": "3.10.8"
  }
 },
 "nbformat": 4,
 "nbformat_minor": 5
}
