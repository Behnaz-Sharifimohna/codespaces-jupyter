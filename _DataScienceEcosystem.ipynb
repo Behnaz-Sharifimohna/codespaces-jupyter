{
 "cells": [
  {
   "cell_type": "markdown",
   "id": "607c81a8",
   "metadata": {},
   "source": [
    "# Data Science Tools and Ecosystem"
   ]
  },
  {
   "cell_type": "markdown",
   "id": "fab6b6e4",
   "metadata": {},
   "source": [
    "#### In this notebook, Data Science Tools and Ecosystem are summarized."
   ]
  },
  {
   "cell_type": "markdown",
   "id": "410d3ad4",
   "metadata": {},
   "source": [
    "#### Some of the popular languages that Data Scientists use are:"
   ]
  },
  {
   "cell_type": "markdown",
   "id": "f9af9819",
   "metadata": {},
   "source": [
    "#### 1.Python\n",
    "#### 2.R\n",
    "#### 3.C++\n",
    "#### 4.Java Script"
   ]
  },
  {
   "cell_type": "markdown",
   "id": "2b8c9c7d",
   "metadata": {},
   "source": [
    "### **Objectives:**"
   ]
  },
  {
   "cell_type": "markdown",
   "id": "d30865a1",
   "metadata": {},
   "source": [
    "### popular languages for Data Science:\n",
    "\n",
    "#### +Python\n",
    "#### +R\n",
    "#### +Java\n",
    "#### +JavaScript\n",
    "#### +Julia\n",
    "#### +Scala\n"
   ]
  },
  {
   "cell_type": "markdown",
   "id": "c5fd6142",
   "metadata": {},
   "source": [
    "### Some of the commonly used libraries used by Data Scientists include:\n",
    "\n",
    "### 1.Python Libraries\n",
    "####  ---> 1.Pandas\n",
    "####  ---> 2. NumPy\n",
    "\n",
    "### 2. Scala Libraries\n",
    "####  ---> 1.Vegas\n",
    "####  ---> 2.BigDL\n",
    "\n",
    "### 3. R Libraries\n",
    "####  ---> 1.ggPlot2"
   ]
  },
  {
   "cell_type": "markdown",
   "id": "72b6751c",
   "metadata": {},
   "source": [
    "|**Data Science Tools**|\n",
    "|------------------|\n",
    "|RStudio   |\n",
    "|Apache Spark  |\n",
    "|TensorFlow  |\n"
   ]
  },
  {
   "cell_type": "markdown",
   "id": "b6107d39",
   "metadata": {},
   "source": [
    "### Below are a few examples of evaluating arithmetic expressions in Python"
   ]
  },
  {
   "cell_type": "code",
   "execution_count": 1,
   "id": "31754411",
   "metadata": {
    "scrolled": true
   },
   "outputs": [
    {
     "data": {
      "text/plain": [
       "17"
      ]
     },
     "execution_count": 1,
     "metadata": {},
     "output_type": "execute_result"
    }
   ],
   "source": [
    "#This a simple arithmetic expression to mutiply then add integers\n",
    "\n",
    "(3*4)+5"
   ]
  },
  {
   "cell_type": "code",
   "execution_count": 2,
   "id": "8e883eac",
   "metadata": {},
   "outputs": [
    {
     "data": {
      "text/plain": [
       "3.3333333333333335"
      ]
     },
     "execution_count": 2,
     "metadata": {},
     "output_type": "execute_result"
    },
  
   ],
   "source": [
    "#This will convert 200 minutes to hours by diving by 60\n",
    "\n",
    "200/60"
   ]
  },
  {
   "cell_type": "markdown",
   "id": "47e011d7",
   "metadata": {},
   "source": [
    "## Author\n",
    " Behnaz Sharifimohna"
   ]
  },
  {
   "cell_type": "code",
   "execution_count": null,
   "id": "ce2faa44",
   "metadata": {},
   "outputs": [],
   "source": []
  }
 ],
 "metadata": {
  "kernelspec": {
   "display_name": "Python 3 (ipykernel)",
   "language": "python",
   "name": "python3"
  },
  "language_info": {
   "codemirror_mode": {
    "name": "ipython",
    "version": 3
   },
   "file_extension": ".py",
   "mimetype": "text/x-python",
   "name": "python",
   "nbconvert_exporter": "python",
   "pygments_lexer": "ipython3",
   "version": "3.10.8"
  }
 },
 "nbformat": 4,
 "nbformat_minor": 5
}
